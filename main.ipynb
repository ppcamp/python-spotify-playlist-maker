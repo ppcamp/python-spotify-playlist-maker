{
 "cells": [
  {
   "cell_type": "markdown",
   "metadata": {},
   "source": [
    "# Spotify playlist creator"
   ]
  },
  {
   "cell_type": "markdown",
   "metadata": {},
   "source": [
    "Read music directory"
   ]
  },
  {
   "cell_type": "code",
   "execution_count": null,
   "metadata": {},
   "outputs": [],
   "source": [
    "def is_mp3(n: str) -> bool:\n",
    "    return n.lower()[-4:] == \".mp3\"\n",
    "\n",
    "def remove_ext(n: str) -> str:\n",
    "    return n[:-4]"
   ]
  },
  {
   "cell_type": "code",
   "execution_count": null,
   "metadata": {},
   "outputs": [],
   "source": [
    "MUSIC_PATH: str = \"/mnt/d/Music\"\n",
    "\n",
    "files: dict[str, list[str]] = {}"
   ]
  },
  {
   "cell_type": "code",
   "execution_count": null,
   "metadata": {},
   "outputs": [],
   "source": [
    "import os\n",
    "\n",
    "def sanitize(base_path: str, path: str) -> str:\n",
    "    f = path[len(base_path)+1:]\n",
    "    return f.replace(\" \", \"\").replace(\"-\",\"\").replace(\"/\",\"-\")\n",
    "\n",
    "\n",
    "def get_files(path:str):\n",
    "    for j, _, filenames in os.walk(path):\n",
    "        sanitized: str = sanitize(base_path=path, path=j)\n",
    "\n",
    "        mp3s = [remove_ext(m) for m in filenames if is_mp3(m)]\n",
    "        if mp3s:\n",
    "            files[sanitized] = mp3s"
   ]
  },
  {
   "cell_type": "code",
   "execution_count": null,
   "metadata": {},
   "outputs": [],
   "source": [
    "get_files(MUSIC_PATH)"
   ]
  },
  {
   "cell_type": "markdown",
   "metadata": {},
   "source": [
    "## Create playlists - musics"
   ]
  },
  {
   "cell_type": "code",
   "execution_count": null,
   "metadata": {},
   "outputs": [],
   "source": [
    "import spotify"
   ]
  },
  {
   "cell_type": "markdown",
   "metadata": {},
   "source": [
    "**Get spotify token**\n",
    "\n",
    "https://developer.spotify.com/console/get-search-item/?q=&type=&market=&limit=&offset=&include_external=\n",
    "\n",
    "Click in ***Get token***\n",
    "\n",
    "Wehn the pop up show up, select:\n",
    "\n",
    "- playlist-modify-private\n",
    "- playlist-read-private\n",
    "- user-library-modify\n",
    "- user-library-read\n",
    "\n",
    "Then, copy the OAuth Token"
   ]
  },
  {
   "cell_type": "code",
   "execution_count": null,
   "metadata": {},
   "outputs": [],
   "source": [
    "token: str = \"\""
   ]
  },
  {
   "cell_type": "markdown",
   "metadata": {},
   "source": [
    "**Get User**"
   ]
  },
  {
   "cell_type": "code",
   "execution_count": null,
   "metadata": {},
   "outputs": [],
   "source": [
    "user_id: str | None = spotify.user_id(jwt=token)\n",
    "if not user_id:\n",
    "    raise Exception(\"fail to get user\")"
   ]
  },
  {
   "cell_type": "code",
   "execution_count": null,
   "metadata": {},
   "outputs": [],
   "source": [
    "playlists_success: list[str] = []\n",
    "musics_success: list[str] = []\n",
    "worked: list[str] = []\n",
    "\n",
    "for playlist_name in files:\n",
    "    musics: list[str] = files[playlist_name]\n",
    "\n",
    "    # create playlist if not exists\n",
    "    playlist_id: str | None = spotify.create_playlist(name=playlist_name,user_id=user_id, jwt=token)\n",
    "    if not playlist_id:\n",
    "        print(f\"fail to create playlist: {playlist_name}\")\n",
    "        continue\n",
    "\n",
    "    playlists_success.append(playlist_name)\n",
    "\n",
    "    # search musics\n",
    "    for music_name in musics:\n",
    "        track_id: str | None = spotify.search_track(name=music_name.lower(), jwt=token)\n",
    "        if not track_id:\n",
    "            logname: str = f\"{playlist_name}/{music_name}\"\n",
    "            print(f\"fail to get music: {logname}\")\n",
    "            continue\n",
    "        musics_success.append(music_name)\n",
    "        \n",
    "        # add music to playlist\n",
    "        worked = spotify.add_track_playlist(\n",
    "            playlist_id=playlist_id, tracks_ids=[track_id], jwt=token)\n",
    "        if not worked:\n",
    "            logname: str = f\"{playlist_name}/{music_name}\"\n",
    "            print(f\"fail to add music: {music_name} to {playlist_name}\")\n"
   ]
  },
  {
   "cell_type": "code",
   "execution_count": null,
   "metadata": {},
   "outputs": [],
   "source": []
  }
 ],
 "metadata": {
  "interpreter": {
   "hash": "78162fc26faea0141bce47d74101a31795f738a46ebf3e3facbcb114f5d9dcdd"
  },
  "kernelspec": {
   "display_name": "Python 3.10.4 64-bit",
   "language": "python",
   "name": "python3"
  },
  "language_info": {
   "codemirror_mode": {
    "name": "ipython",
    "version": 3
   },
   "file_extension": ".py",
   "mimetype": "text/x-python",
   "name": "python",
   "nbconvert_exporter": "python",
   "pygments_lexer": "ipython3",
   "version": "3.10.4"
  },
  "orig_nbformat": 4
 },
 "nbformat": 4,
 "nbformat_minor": 2
}
